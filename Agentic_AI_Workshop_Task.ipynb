{
 "cells": [
  {
   "cell_type": "markdown",
   "id": "2337b4db",
   "metadata": {},
   "source": [
    "## Problem 1: RAG Agent"
   ]
  },
  {
   "cell_type": "code",
   "execution_count": 9,
   "id": "dc6aeb4d",
   "metadata": {},
   "outputs": [],
   "source": [
    "# Importing Necessary Libraries\n",
    "import os\n",
    "import requests\n",
    "import zipfile\n",
    "import sqlite3\n",
    "import operator\n",
    "import pandas as pd\n",
    "\n",
    "from typing import TypedDict, Annotated, List\n",
    "from langchain.text_splitter import RecursiveCharacterTextSplitter\n",
    "from langchain_community.vectorstores import Chroma\n",
    "from langchain_community.embeddings import HuggingFaceEmbeddings\n",
    "\n",
    "from langchain_core.messages import BaseMessage, HumanMessage, AIMessage, ToolMessage\n",
    "from langchain_ollama.chat_models import ChatOllama\n",
    "from langchain_core.tools import tool\n",
    "from langgraph.graph import StateGraph, END\n",
    "from langgraph.prebuilt import ToolNode"
   ]
  },
  {
   "cell_type": "markdown",
   "id": "4db71f82",
   "metadata": {},
   "source": [
    "Defining Necessary variables and links"
   ]
  },
  {
   "cell_type": "code",
   "execution_count": 2,
   "id": "303aea02",
   "metadata": {},
   "outputs": [],
   "source": [
    "# --- Configuration ---\n",
    "DATA_DIR = \"Data\"\n",
    "DATA_FILE = os.path.join(DATA_DIR, \"HR_Policy.txt\")\n",
    "VECTORSTORE_DIR = \"hr_policy_vectorstore\"\n",
    "EMBEDDING_MODEL = \"all-MiniLM-L6-v2\"\n",
    "CHUNK_SIZE = 1000\n",
    "CHUNK_OVERLAP = 150"
   ]
  },
  {
   "cell_type": "code",
   "execution_count": 3,
   "id": "7e6781ba",
   "metadata": {},
   "outputs": [
    {
     "data": {
      "text/plain": [
       "'Data/HR_Policy.txt'"
      ]
     },
     "execution_count": 3,
     "metadata": {},
     "output_type": "execute_result"
    }
   ],
   "source": [
    "DATA_FILE"
   ]
  },
  {
   "cell_type": "code",
   "execution_count": 4,
   "id": "2965c4bc",
   "metadata": {},
   "outputs": [],
   "source": [
    "def load_and_chunk_documents():\n",
    "    \"\"\"\n",
    "    Loads the HR policy data from the TXT file and splits it into smaller chunks.\n",
    "    \"\"\"\n",
    "    print(\"\\n--- Step 1: Loading and Chunking Documents ---\")\n",
    "    # UPDATED: Check for the .txt file.\n",
    "    if not os.path.exists(DATA_FILE):\n",
    "        print(f\"Error: {DATA_FILE} not found. Please ensure the dataset is downloaded.\")\n",
    "        return None\n",
    "\n",
    "    # UPDATED: Read the entire content of the text file instead of using pandas.\n",
    "    with open(DATA_FILE, 'r', encoding='utf-8') as f:\n",
    "        full_text = f.read()\n",
    "    \n",
    "    # The text splitter works on a list of documents. We treat the whole file as one document.\n",
    "    documents = [full_text]\n",
    "    \n",
    "    text_splitter = RecursiveCharacterTextSplitter(\n",
    "        chunk_size=CHUNK_SIZE,\n",
    "        chunk_overlap=CHUNK_OVERLAP\n",
    "    )\n",
    "    \n",
    "    chunks = text_splitter.create_documents(documents)\n",
    "    print(f\"Created {len(chunks)} document chunks from the text file.\")\n",
    "    return chunks"
   ]
  },
  {
   "cell_type": "code",
   "execution_count": 5,
   "id": "68165aa2",
   "metadata": {},
   "outputs": [],
   "source": [
    "def create_and_store_embeddings(chunks):\n",
    "    \"\"\"\n",
    "    Creates embeddings for the document chunks and stores them in a Chroma vector store.\n",
    "    \"\"\"\n",
    "    print(\"\\n--- Step 2: Creating and Storing Embeddings ---\")\n",
    "    if not chunks:\n",
    "        print(\"No chunks to process. Aborting.\")\n",
    "        return\n",
    "\n",
    "    # Initialize the embedding model from HuggingFace\n",
    "    print(f\"Loading embedding model: '{EMBEDDING_MODEL}'...\")\n",
    "    embeddings = HuggingFaceEmbeddings(model_name=EMBEDDING_MODEL)\n",
    "\n",
    "    # Create the Chroma vector store\n",
    "    # This will process all chunks and store their vector representations.\n",
    "    # It will be persisted to disk in the VECTORSTORE_DIR.\n",
    "    print(f\"Creating vector store in '{VECTORSTORE_DIR}'...\")\n",
    "    Chroma.from_documents(\n",
    "        chunks,\n",
    "        embeddings,\n",
    "        persist_directory=VECTORSTORE_DIR\n",
    "    )\n",
    "    print(\"Vector store created and persisted successfully.\")\n"
   ]
  },
  {
   "cell_type": "code",
   "execution_count": 6,
   "id": "d026f0b8",
   "metadata": {},
   "outputs": [
    {
     "name": "stdout",
     "output_type": "stream",
     "text": [
      "\n",
      "--- Step 1: Loading and Chunking Documents ---\n",
      "Created 25 document chunks from the text file.\n",
      "\n",
      "--- Step 2: Creating and Storing Embeddings ---\n",
      "Loading embedding model: 'all-MiniLM-L6-v2'...\n"
     ]
    },
    {
     "name": "stderr",
     "output_type": "stream",
     "text": [
      "/tmp/ipykernel_29053/200756242.py:12: LangChainDeprecationWarning: The class `HuggingFaceEmbeddings` was deprecated in LangChain 0.2.2 and will be removed in 1.0. An updated version of the class exists in the :class:`~langchain-huggingface package and should be used instead. To use it run `pip install -U :class:`~langchain-huggingface` and import as `from :class:`~langchain_huggingface import HuggingFaceEmbeddings``.\n",
      "  embeddings = HuggingFaceEmbeddings(model_name=EMBEDDING_MODEL)\n",
      "/home/sushobhon/agentic-ai-workshop/agent_env/lib/python3.12/site-packages/tqdm/auto.py:21: TqdmWarning: IProgress not found. Please update jupyter and ipywidgets. See https://ipywidgets.readthedocs.io/en/stable/user_install.html\n",
      "  from .autonotebook import tqdm as notebook_tqdm\n"
     ]
    },
    {
     "name": "stdout",
     "output_type": "stream",
     "text": [
      "Creating vector store in 'hr_policy_vectorstore'...\n",
      "Vector store created and persisted successfully.\n",
      "\n",
      "--- Data Ingestion Complete ---\n",
      "Your vector store is ready in the 'hr_policy_vectorstore' directory.\n"
     ]
    }
   ],
   "source": [
    "# Manually download the dataset first as per the instructions in the function.\n",
    "doc_chunks = load_and_chunk_documents()\n",
    "if doc_chunks:\n",
    "    create_and_store_embeddings(doc_chunks)\n",
    "print(\"\\n--- Data Ingestion Complete ---\")\n",
    "print(f\"Your vector store is ready in the '{VECTORSTORE_DIR}' directory.\")"
   ]
  },
  {
   "cell_type": "code",
   "execution_count": null,
   "id": "d75c817d",
   "metadata": {},
   "outputs": [],
   "source": [
    "# --- Configuration ---\n",
    "VECTORSTORE_DIR = \"hr_policy_vectorstore\"\n",
    "EMBEDDING_MODEL = \"all-MiniLM-L6-v2\"\n",
    "OLLAMA_MODEL = \"mistral:latest\" # Make sure this model is pulled in Ollama"
   ]
  },
  {
   "cell_type": "code",
   "execution_count": 11,
   "id": "5860e51c",
   "metadata": {},
   "outputs": [
    {
     "name": "stdout",
     "output_type": "stream",
     "text": [
      "Loading embeddings and vector store for RAG tool...\n"
     ]
    },
    {
     "name": "stderr",
     "output_type": "stream",
     "text": [
      "/tmp/ipykernel_29053/1493662442.py:5: LangChainDeprecationWarning: The class `Chroma` was deprecated in LangChain 0.2.9 and will be removed in 1.0. An updated version of the class exists in the :class:`~langchain-chroma package and should be used instead. To use it run `pip install -U :class:`~langchain-chroma` and import as `from :class:`~langchain_chroma import Chroma``.\n",
      "  vectorstore = Chroma(persist_directory=VECTORSTORE_DIR, embedding_function=embeddings)\n"
     ]
    }
   ],
   "source": [
    "# --- 1. RAG Tool Definition ---\n",
    "# Initialize embeddings and vector store once to be used by the tool\n",
    "print(\"Loading embeddings and vector store for RAG tool...\")\n",
    "embeddings = HuggingFaceEmbeddings(model_name=EMBEDDING_MODEL)\n",
    "vectorstore = Chroma(persist_directory=VECTORSTORE_DIR, embedding_function=embeddings)\n",
    "retriever = vectorstore.as_retriever(search_kwargs={\"k\": 3}) # Retrieve top 3 results"
   ]
  },
  {
   "cell_type": "code",
   "execution_count": 12,
   "id": "bec82954",
   "metadata": {},
   "outputs": [],
   "source": [
    "# Defining retrive data function\n",
    "@tool\n",
    "def retrieve_hr_policy_info(query: str) -> str:\n",
    "    \"\"\"\n",
    "    Searches the HR policy vector database to find relevant information\n",
    "    for a given user query. Use this to answer questions about HR policies,\n",
    "    such as leave, benefits, code of conduct, etc.\n",
    "    \"\"\"\n",
    "    print(f\"--- Executing RAG Tool for query: '{query}' ---\")\n",
    "    results = retriever.invoke(query)\n",
    "    \n",
    "    if not results:\n",
    "        return \"No relevant information found in the HR policy documents.\"\n",
    "        \n",
    "    # Format the results into a single string to be passed to the LLM\n",
    "    context = \"\\n\\n---\\n\\n\".join([doc.page_content for doc in results])\n",
    "    print(\"--- RAG Tool Finished ---\")\n",
    "    return f\"Retrieved context: \\n{context}\"\n"
   ]
  },
  {
   "cell_type": "code",
   "execution_count": 13,
   "id": "798aa893",
   "metadata": {},
   "outputs": [],
   "source": [
    "# --- 2. Agent State and Graph Definition ---\n",
    "\n",
    "class AgentState(TypedDict):\n",
    "    messages: Annotated[List[BaseMessage], operator.add]"
   ]
  },
  {
   "cell_type": "code",
   "execution_count": 16,
   "id": "5b419422",
   "metadata": {},
   "outputs": [],
   "source": [
    "# --- 3. Graph Nodes and Conditional Logic ---\n",
    "\n",
    "def should_continue(state: AgentState) -> str:\n",
    "    \"\"\"\n",
    "    Decides the next step. If the LLM made a tool call, route to the 'tools' node.\n",
    "    Otherwise, end the process.\n",
    "    \"\"\"\n",
    "    last_message = state['messages'][-1]\n",
    "    if last_message.tool_calls:\n",
    "        return \"tools\"\n",
    "    return END\n",
    "\n",
    "def call_model(state: AgentState):\n",
    "    \"\"\"\n",
    "    Calls the Ollama LLM. It will either respond directly or decide to use a tool.\n",
    "    \"\"\"\n",
    "    messages = state['messages']\n",
    "    # The final response generation should not use the tool-calling model\n",
    "    # to avoid loops. We'll decide which model to use based on the flow.\n",
    "    # If the last message was a tool result, we use the base model to synthesize an answer.\n",
    "    if isinstance(messages[-1], ToolMessage):\n",
    "        print(\"--- Synthesizing final answer from tool output ---\")\n",
    "        response = model.invoke(messages)\n",
    "    else:\n",
    "        # This is the first call, where the model can decide to use a tool.\n",
    "        print(\"--- Agent is deciding next step (respond or use tool) ---\")\n",
    "        response = model_with_tools.invoke(messages)\n",
    "        \n",
    "    return {\"messages\": [response]}\n",
    "\n"
   ]
  },
  {
   "cell_type": "code",
   "execution_count": 26,
   "id": "ff6ea460",
   "metadata": {},
   "outputs": [
    {
     "data": {
      "image/png": "[encoded data removed]",
      "text/plain": [
       "<IPython.core.display.Image object>"
      ]
     },
     "metadata": {},
     "output_type": "display_data"
    }
   ],
   "source": [
    "from IPython.display import Image, display\n",
    "display(Image(app.get_graph().draw_mermaid_png()))"
   ]
  },
  {
   "cell_type": "code",
   "execution_count": 27,
   "id": "af9e0001",
   "metadata": {},
   "outputs": [
    {
     "name": "stdout",
     "output_type": "stream",
     "text": [
      "--- HR Policy RAG Agent Initializing ---\n"
     ]
    }
   ],
   "source": [
    "print(\"--- HR Policy RAG Agent Initializing ---\")\n",
    "    \n",
    "# Check if the vector store exists\n",
    "if not os.path.exists(VECTORSTORE_DIR):\n",
    "    print(f\"Error: Vector store not found at '{VECTORSTORE_DIR}'\")\n",
    "    print(\"Please run the 'rag_data_ingestion.py' script first to create it.\")\n",
    "    exit()\n",
    "\n",
    "# Define the tool(s) for the agent\n",
    "tools = [retrieve_hr_policy_info]\n",
    "\n",
    "# Initialize the Ollama model\n",
    "model = ChatOllama(model=OLLAMA_MODEL)\n",
    "\n",
    "# Bind the tool to the model\n",
    "model_with_tools = model.bind_tools(tools)\n",
    "\n",
    "# Define the LangGraph workflow\n",
    "workflow = StateGraph(AgentState)\n",
    "\n",
    "workflow.add_node(\"agent\", call_model)\n",
    "workflow.add_node(\"tools\", ToolNode(tools))\n",
    "\n",
    "workflow.set_entry_point(\"agent\")\n",
    "\n",
    "workflow.add_conditional_edges(\n",
    "    \"agent\",\n",
    "    should_continue,\n",
    "    {\n",
    "        \"tools\": \"tools\",\n",
    "        END: END\n",
    "    }\n",
    ")\n",
    "workflow.add_edge(\"tools\", \"agent\")\n",
    "\n",
    "# Compile the graph\n",
    "app = workflow.compile()\n"
   ]
  },
  {
   "cell_type": "code",
   "execution_count": 29,
   "id": "5f8746e3",
   "metadata": {},
   "outputs": [
    {
     "name": "stdout",
     "output_type": "stream",
     "text": [
      "\n",
      "--- Starting HR Policy Assistant ---\n",
      "Type 'exit' to end the conversation.\n",
      "--- Agent is deciding next step (respond or use tool) ---\n",
      "\n",
      "Output from node 'agent':\n",
      "---\n",
      "\n",
      "\n",
      "--- Agent is deciding next step (respond or use tool) ---\n",
      "---\n",
      "Final Answer:  Your previous question was: \"What is the HR policy function?\" This function retrieves relevant information about HR policies, such as leave, benefits, code of conduct, etc., from a database. It takes a user query as input and returns the most relevant policy information.\n",
      "---\n"
     ]
    }
   ],
   "source": [
    "print(\"\\n--- Starting HR Policy Assistant ---\")\n",
    "print(\"Type 'exit' to end the conversation.\")\n",
    "\n",
    "while True:\n",
    "    user_input = input(\"\\nYour question: \")\n",
    "    if user_input.lower() == 'exit':\n",
    "        break\n",
    "    \n",
    "    inputs = {\"messages\": [HumanMessage(content=user_input)]}\n",
    "    \n",
    "    # Stream the intermediate steps to see the agent's reasoning\n",
    "    for output in app.stream(inputs):\n",
    "        for key, value in output.items():\n",
    "            print(f\"\\nOutput from node '{key}':\")\n",
    "            print(\"---\")\n",
    "            # Print the message content for clarity\n",
    "            if 'messages' in value:\n",
    "                for msg in value['messages']:\n",
    "                    if hasattr(msg, \"tool_calls\") and msg.tool_calls:\n",
    "                        print(f\"Tool Call: {msg.tool_calls}\")\n",
    "            else:\n",
    "                print(value)\n",
    "        print(\"\\n\")\n",
    "    \n",
    "    # The final answer is the last message from the 'agent' node\n",
    "    final_response = app.invoke(inputs)\n",
    "    print(\"---\")\n",
    "    print(\"Final Answer:\", final_response['messages'][-1].content)\n",
    "    print(\"---\")"
   ]
  },
  {
   "cell_type": "code",
   "execution_count": null,
   "id": "a8b6c13f",
   "metadata": {},
   "outputs": [],
   "source": []
  }
 ],
 "metadata": {
  "kernelspec": {
   "display_name": "agent_env",
   "language": "python",
   "name": "python3"
  },
  "language_info": {
   "codemirror_mode": {
    "name": "ipython",
    "version": 3
   },
   "file_extension": ".py",
   "mimetype": "text/x-python",
   "name": "python",
   "nbconvert_exporter": "python",
   "pygments_lexer": "ipython3",
   "version": "3.12.9"
  }
 },
 "nbformat": 4,
 "nbformat_minor": 5
}
